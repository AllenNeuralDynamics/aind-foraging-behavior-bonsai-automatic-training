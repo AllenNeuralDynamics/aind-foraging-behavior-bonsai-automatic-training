{
 "cells": [
  {
   "cell_type": "code",
   "execution_count": 3,
   "metadata": {},
   "outputs": [],
   "source": [
    "from pydantic import Field\n",
    "from typing import List\n",
    "from enum import Enum\n",
    "\n",
    "from aind_data_schema.base import AindModel\n",
    "from aind_data_schema.session import Session\n",
    "from aind_data_schema.stimulus import BehaviorStimulation"
   ]
  },
  {
   "cell_type": "code",
   "execution_count": 19,
   "metadata": {},
   "outputs": [
    {
     "data": {
      "text/plain": [
       "'1'"
      ]
     },
     "execution_count": 19,
     "metadata": {},
     "output_type": "execute_result"
    }
   ],
   "source": [
    "import json\n",
    "with open('TrainingStagePar.json', 'r') as f:\n",
    "    training_stages = json.load(f)\n",
    "    \n",
    "training_stages['Coupled Baiting']['Stage6']['RewardFamily']"
   ]
  },
  {
   "cell_type": "code",
   "execution_count": 4,
   "metadata": {},
   "outputs": [],
   "source": [
    "class ForagingTasks(Enum):\n",
    "    \"\"\"Foraging tasks\"\"\"\n",
    "\n",
    "    C1B1 = \"Coupled Baiting\"\n",
    "    C0B0 = \"Uncoupled Without Baiting\"\n",
    "    C1B0 = \"Coupled Without Baiting\"\n",
    "    C0B1 = \"Uncoupled Baiting\"\n",
    "    \n",
    "class AdvancedBlockModes(Enum):\n",
    "    ''' Modes for advanced block '''\n",
    "    OFF = \"off\"\n",
    "    NOW = \"now\"\n",
    "    ONCE = \"once\"\n",
    "    \n",
    "class AutoWaterModes(Enum):\n",
    "    ''' Modes for auto water '''\n",
    "    NATURAL = \"Natural\"\n",
    "    BOTH = \"Both\"\n",
    "    HIGH_PRO = \"High pro\"\n",
    "\n",
    "class TrainingParameters(AindModel):\n",
    "    ''' Training schema for the dynamic foraging GUI.\n",
    "        This fully defines a set of training parameters that could be used in the GUI.\n",
    "        For simplicity, let's start with a flat structure and use exactly the same names as in the GUI.\n",
    "    '''\n",
    "    \n",
    "    # Metadata\n",
    "    task: ForagingTasks = Field(ForagingTasks.C1B1, title=\"task name\")\n",
    "    curriculum_version: str = Field(\n",
    "        \"0.1\",\n",
    "        title=\"Curriculum version\",\n",
    "        const=True,\n",
    "    )\n",
    "    training_stage: float = Field(\n",
    "        \"1.1\",\n",
    "        title=\"Training stages\",\n",
    "        desciption=\"training stages such as 1.1, 1.2, 2, 3, ...\"\n",
    "    )\n",
    "    \n",
    "    # --- Critical training parameters ---\n",
    "    # Reward probability\n",
    "    BaseRewardSum: float = Field(1.0, title=\"Sum of p_reward\")\n",
    "    RewardFamily: int = Field(3, title=\"Reward family\")  # Should be explicit here\n",
    "    RewardParisN: int = Field(1, title=\"Number of pairs\")  # Should be explicit here\n",
    "    \n",
    "    UncoupledReward: str = Field(\"0.1,0.3,0.7\", title=\"Uncoupled reward\")  # For uncoupled tasks only\n",
    "    \n",
    "    # Block length\n",
    "    BlockMin:  int = Field(1, title=\"Block length (min)\")\n",
    "    BlockMax:  int = Field(1, title=\"Block length (max)\")\n",
    "    BlockBeta:  int = Field(1, title=\"Block length (beta)\")\n",
    "    BlockMinReward:  int = Field(1, title=\"Minimal rewards in a block to switch\")\n",
    "    \n",
    "    # Delay period\n",
    "    DelayMin:  float = Field(0.0, title=\"Delay period (min) \") \n",
    "    DelayMax: float = Field(0.0, title=\"Delay period (max) \")\n",
    "    DelayBeta: float = Field(0.5, title=\"Delay period (beta)\")\n",
    "    \n",
    "    # Auto water\n",
    "    AutoReward: bool = Field(True, title=\"Auto reward switch\")\n",
    "    AutoWaterType: AutoWaterModes = Field(AutoWaterModes.NATURAL, title=\"Auto water mode\")\n",
    "    Multiplier: float = Field(0.5, title=\"Multiplier for auto reward\")\n",
    "    Unrewarded: int = Field(0, title=\"Number of unrewarded trials before auto water\")\n",
    "    Ignored: int = Field(0, title=\"Number of ignored trials before auto water\")\n",
    "        \n",
    "    # ITI\n",
    "    ITIMin: float = Field(3, title=\"ITI (min)\")\n",
    "    ITIMax: float = Field(15, title=\"ITI (max)\")\n",
    "    ITIBeta: float = Field(5, title=\"ITI (beta)\")\n",
    "    ITIIncrease: float = Field(0.0, title=\"ITI increase\")   # TODO: not implemented in the GUI??\n",
    "    \n",
    "    # Response time\n",
    "    ResponseTime: float = Field(10, title=\"Response time\")\n",
    "    RewardConsumeTime: float = Field(3.0, title=\"Reward consume time\", \n",
    "                                     description=\"Time of the no-lick period before trial end\")\n",
    "    StopIgnores: int = Field(20000, title=\"Number of ignored trials before stop\")\n",
    "    \n",
    "    # Auto block\n",
    "    AdvancedBlockAuto: AdvancedBlockModes = Field(AdvancedBlockModes.OFF, title=\"Auto block mode\")    \n",
    "    SwitchThr: float = Field(0.5, title=\"Switch threshold for auto block\")\n",
    "    PointsInARow: int = Field(5, title=\"Points in a row for auto block\")\n",
    "                             \n",
    "    # Auto stop\n",
    "    MaxTrial: int = Field(1000, title=\"Maximal number of trials\")\n",
    "    MaxTime: int = Field(90, title=\"Maximal session time (min)\")\n",
    "                             \n",
    "    # Reward size. TODO: which one has higher priority? valve open time or volume?\n",
    "    RightValue: float = Field(0.05, title=\"Right reward size (valve open time in sec)\")\n",
    "    LeftValue: float = Field(0.05, title=\"Left reward size (valve open time in sec)\")\n",
    "    RightValue_volume: float = Field(5.00, title=\"Right reward size (volume)\")\n",
    "    LeftValue_volume: float = Field(5.00, title=\"Left reward size (volume)\")\n",
    "    \n",
    "    # --- Other GUI fields that will never be changed by the script (only clicked by the user) ---\n",
    "    NextBlock: bool = Field(False, title=\"(User clicks) Next block\", const=True)\n",
    "    GiveLeft: bool = Field(False, title=\"(User clicks) Give left\", const=True)\n",
    "    GiveRight: bool = Field(False, title=\"(User clicks) Give right\", const=True)\n",
    "    GiveWaterL: float = Field(0.03, title=\"(User clicks) Size of give water left\", const=True)\n",
    "    GiveWaterR: float = Field(0.03, title=\"(User clicks) Size of give water right\", const=True)\n",
    "    GiveWaterL_volume: float = Field(3.00, title=\"(User clicks) Size of give water left (volume)\", const=True)\n",
    "    GiveWaterR_volume: float = Field(3.00, title=\"(User clicks) Size of give water right (volume)\", const=True)\n",
    "    IncludeAutoReward: bool = Field(False, title=\"(User clicks) Include auto reward\", const=True)\n",
    "    SaveTraining: bool = Field(True, title=\"(User clicks) Save training\", const=True)\n",
    "    InitiallyInactiveN: int = Field(2, title=\"Initially inactive trials\")   # TODO: What is this???\n",
    "    Randomness: str = Field(\"Exponential\", title=\"Randomness mode\", const=True)\n",
    "    \n",
    "    qt_spinbox_lineedit: float = Field(5.0, title=\"qt_spinbox_lineedit??\", const=True)  # TODO:What is this???\n",
    "    \n",
    "    \n",
    "    def to_GUI_format(self):\n",
    "        '''Turn to the GUI format, especially convert numbers to strings\n",
    "        '''\n",
    "        return self\n",
    "    \n",
    "\n",
    "class TrainingCurriculum():\n",
    "    ''' Training curriculum schema.\n",
    "        This defines different stages of training and the state transition rules.\n",
    "    '''\n"
   ]
  },
  {
   "cell_type": "code",
   "execution_count": 16,
   "metadata": {},
   "outputs": [],
   "source": [
    "current_parameters = DynamicForagingTrainingParameters()\n"
   ]
  },
  {
   "cell_type": "code",
   "execution_count": 17,
   "metadata": {},
   "outputs": [],
   "source": [
    "class Test():\n",
    "    a = 1"
   ]
  }
 ],
 "metadata": {
  "kernelspec": {
   "display_name": "base",
   "language": "python",
   "name": "python3"
  },
  "language_info": {
   "codemirror_mode": {
    "name": "ipython",
    "version": 3
   },
   "file_extension": ".py",
   "mimetype": "text/x-python",
   "name": "python",
   "nbconvert_exporter": "python",
   "pygments_lexer": "ipython3",
   "version": "3.8.5"
  },
  "orig_nbformat": 4,
  "vscode": {
   "interpreter": {
    "hash": "d4d1e4263499bec80672ea0156c357c1ee493ec2b1c70f0acce89fc37c4a6abe"
   }
  }
 },
 "nbformat": 4,
 "nbformat_minor": 2
}
