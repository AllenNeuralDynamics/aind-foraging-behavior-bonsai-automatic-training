{
 "cells": [
  {
   "cell_type": "code",
   "execution_count": 1,
   "metadata": {},
   "outputs": [],
   "source": [
    "#%%\n",
    "import pandas as pd\n",
    "from curriculum import add_mouse_tracker, TrainingManager, TrainingStages, BehavioralMetrics\n",
    "from datetime import datetime\n",
    "\n",
    "# Initialize DataFrame\n",
    "progress_df = pd.DataFrame(columns=['Date', 'MouseID', 'SessionCount', 'TrainingStage'])\n",
    "\n",
    "# Instantiate TrainingManager\n",
    "manager = TrainingManager(mice={})\n",
    "\n",
    "# Add mouse trackers to the manager\n",
    "manager.mice['Mouse1'] = add_mouse_tracker('Mouse1', TrainingStages.STAGE_1)\n",
    "# ... Add more mice as needed ...\n",
    "\n",
    "# Function to update progress for a mouse\n",
    "def update_progress(mouse_id: str, session_count: int, metrics: BehavioralMetrics):\n",
    "    # Update the tracker's metrics\n",
    "    manager.mice[mouse_id].metrics = metrics\n",
    "    manager.update()\n",
    "    \n",
    "    # Get the current stage\n",
    "    current_stage = manager.mice[mouse_id].current_stage\n",
    "    \n",
    "    # Log the progress in the DataFrame\n",
    "    today = datetime.now().strftime('%Y-%m-%d')\n",
    "    progress_df.loc[len(progress_df)] = [today, mouse_id, session_count, current_stage.name]\n",
    "\n",
    "# Function to save progress to a CSV\n",
    "def save_progress_to_csv(filepath: str):\n",
    "    progress_df.to_csv(filepath, index=False)\n",
    "\n",
    "# Function to load progress from a CSV\n",
    "def load_progress_from_csv(filepath: str):\n",
    "    return pd.read_csv(filepath)\n"
   ]
  },
  {
   "cell_type": "code",
   "execution_count": 15,
   "metadata": {},
   "outputs": [
    {
     "name": "stdout",
     "output_type": "stream",
     "text": [
      "          Date MouseID  SessionCount TrainingStage\n",
      "0   2023-11-15  Mouse1             3       STAGE_1\n",
      "1   2023-11-15  Mouse1             3       STAGE_1\n",
      "2   2023-11-15  Mouse1             3       STAGE_1\n",
      "3   2023-11-15  Mouse1             3       STAGE_1\n",
      "4   2023-11-15  Mouse1             3       STAGE_1\n",
      "5   2023-11-15  Mouse1             3       STAGE_2\n",
      "6   2023-11-15  Mouse1             3       STAGE_2\n",
      "7   2023-11-15  Mouse1             3       STAGE_2\n",
      "8   2023-11-15  Mouse1             3       STAGE_1\n",
      "9   2023-11-15  Mouse1             3       STAGE_1\n",
      "10  2023-11-15  Mouse1             3       STAGE_1\n",
      "11  2023-11-15  Mouse1             3       STAGE_2\n",
      "12  2023-11-15  Mouse1             3       STAGE_2\n",
      "13  2023-11-15  Mouse1             3       STAGE_2\n"
     ]
    }
   ],
   "source": [
    "\n",
    "#%% Example usage\n",
    "new_metrics = BehavioralMetrics(foraging_efficiency=0.8, finished_trials=300)\n",
    "update_progress('Mouse1', 3, new_metrics)\n",
    "save_progress_to_csv('mouse_training_progress.csv')\n",
    "\n",
    "# Load the DataFrame for analysis\n",
    "loaded_progress_df = load_progress_from_csv('mouse_training_progress.csv')\n",
    "print(loaded_progress_df)\n",
    "# %%\n"
   ]
  }
 ],
 "metadata": {
  "kernelspec": {
   "display_name": "base",
   "language": "python",
   "name": "python3"
  },
  "language_info": {
   "codemirror_mode": {
    "name": "ipython",
    "version": 3
   },
   "file_extension": ".py",
   "mimetype": "text/x-python",
   "name": "python",
   "nbconvert_exporter": "python",
   "pygments_lexer": "ipython3",
   "version": "3.8.5"
  },
  "orig_nbformat": 4,
  "vscode": {
   "interpreter": {
    "hash": "d4d1e4263499bec80672ea0156c357c1ee493ec2b1c70f0acce89fc37c4a6abe"
   }
  }
 },
 "nbformat": 4,
 "nbformat_minor": 2
}
