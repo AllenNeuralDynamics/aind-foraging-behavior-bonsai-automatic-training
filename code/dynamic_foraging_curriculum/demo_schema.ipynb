{
 "cells": [
  {
   "cell_type": "code",
   "execution_count": 1,
   "metadata": {},
   "outputs": [],
   "source": [
    "%load_ext autoreload\n",
    "%autoreload 2"
   ]
  },
  {
   "cell_type": "markdown",
   "metadata": {},
   "source": [
    "# Serialize and deserialize the curriculum"
   ]
  },
  {
   "cell_type": "markdown",
   "metadata": {},
   "source": [
    "load the example curriculum"
   ]
  },
  {
   "cell_type": "code",
   "execution_count": 2,
   "metadata": {},
   "outputs": [],
   "source": [
    "from dynamic_foraging_curriculum.curriculums.coupled_baiting import coupled_baiting_curriculum"
   ]
  },
  {
   "cell_type": "markdown",
   "metadata": {},
   "source": [
    "Serialize the curriculum to json"
   ]
  },
  {
   "cell_type": "code",
   "execution_count": 3,
   "metadata": {},
   "outputs": [],
   "source": [
    "path = \"/root/capsule/code/dynamic_foraging_curriculum/curriculums/\"\n",
    "coupled_baiting_curriculum.save_to_json(path)"
   ]
  },
  {
   "cell_type": "markdown",
   "metadata": {},
   "source": [
    "Load the saved curriculum from json"
   ]
  },
  {
   "cell_type": "code",
   "execution_count": 4,
   "metadata": {},
   "outputs": [
    {
     "data": {
      "text/plain": [
       "{'task': 'Coupled Baiting',\n",
       " 'curriculum_version': '0.1',\n",
       " 'task_schema_version': '1.0',\n",
       " 'parameters': {'Stage 1': {'task_schema_version': '1.0',\n",
       "   'curriculum_version': '0.1',\n",
       "   'task': 'Coupled Baiting',\n",
       "   'training_stage': 'Stage 1',\n",
       "   'description': \"Phase B in Han's slides (block = [10, 20, 5], p_sum = 0.8, p_ratio = [1:0])\",\n",
       "   'BaseRewardSum': 0.8,\n",
       "   'RewardFamily': 3,\n",
       "   'RewardParisN': 1,\n",
       "   'UncoupledReward': '',\n",
       "   'BlockMin': 10,\n",
       "   'BlockMax': 20,\n",
       "   'BlockBeta': 5,\n",
       "   'BlockMinReward': 0,\n",
       "   'DelayMin': 0.5,\n",
       "   'DelayMax': 0.5,\n",
       "   'DelayBeta': 0.0,\n",
       "   'AutoReward': True,\n",
       "   'AutoWaterType': 'Natural',\n",
       "   'Multiplier': 0.5,\n",
       "   'Unrewarded': 5,\n",
       "   'Ignored': 5,\n",
       "   'ITIMin': 1.0,\n",
       "   'ITIMax': 7.0,\n",
       "   'ITIBeta': 3.0,\n",
       "   'ITIIncrease': 0.0,\n",
       "   'ResponseTime': 5.0,\n",
       "   'RewardConsumeTime': 3.0,\n",
       "   'StopIgnores': 20000,\n",
       "   'AdvancedBlockAuto': 'now',\n",
       "   'SwitchThr': 0.5,\n",
       "   'PointsInARow': 5,\n",
       "   'MaxTrial': 1000,\n",
       "   'MaxTime': 90,\n",
       "   'RightValue': 0.05,\n",
       "   'LeftValue': 0.05,\n",
       "   'RightValue_volume': 5.0,\n",
       "   'LeftValue_volume': 5.0,\n",
       "   'NextBlock': False,\n",
       "   'GiveLeft': False,\n",
       "   'GiveRight': False,\n",
       "   'GiveWaterL': 0.03,\n",
       "   'GiveWaterR': 0.03,\n",
       "   'GiveWaterL_volume': 3.0,\n",
       "   'GiveWaterR_volume': 3.0,\n",
       "   'IncludeAutoReward': False,\n",
       "   'SaveTraining': True,\n",
       "   'InitiallyInactiveN': 2,\n",
       "   'Randomness': 'Exponential',\n",
       "   'qt_spinbox_lineedit': 5.0},\n",
       "  'Stage 2': {'task_schema_version': '1.0',\n",
       "   'curriculum_version': '0.1',\n",
       "   'task': 'Coupled Baiting',\n",
       "   'training_stage': 'Stage 2',\n",
       "   'description': \"Phase C in Han's slides (block = [10, 40, 10], p_sum = 0.6, p_ratio = [8:1])\",\n",
       "   'BaseRewardSum': 0.6,\n",
       "   'RewardFamily': 1,\n",
       "   'RewardParisN': 1,\n",
       "   'UncoupledReward': '',\n",
       "   'BlockMin': 10,\n",
       "   'BlockMax': 40,\n",
       "   'BlockBeta': 10,\n",
       "   'BlockMinReward': 0,\n",
       "   'DelayMin': 1.0,\n",
       "   'DelayMax': 1.0,\n",
       "   'DelayBeta': 0.0,\n",
       "   'AutoReward': True,\n",
       "   'AutoWaterType': 'Natural',\n",
       "   'Multiplier': 0.5,\n",
       "   'Unrewarded': 10,\n",
       "   'Ignored': 10,\n",
       "   'ITIMin': 2,\n",
       "   'ITIMax': 10,\n",
       "   'ITIBeta': 5,\n",
       "   'ITIIncrease': 0.0,\n",
       "   'ResponseTime': 3,\n",
       "   'RewardConsumeTime': 3.0,\n",
       "   'StopIgnores': 50,\n",
       "   'AdvancedBlockAuto': 'now',\n",
       "   'SwitchThr': 0.6,\n",
       "   'PointsInARow': 5,\n",
       "   'MaxTrial': 1000,\n",
       "   'MaxTime': 90,\n",
       "   'RightValue': 0.05,\n",
       "   'LeftValue': 0.05,\n",
       "   'RightValue_volume': 5.0,\n",
       "   'LeftValue_volume': 5.0,\n",
       "   'NextBlock': False,\n",
       "   'GiveLeft': False,\n",
       "   'GiveRight': False,\n",
       "   'GiveWaterL': 0.03,\n",
       "   'GiveWaterR': 0.03,\n",
       "   'GiveWaterL_volume': 3.0,\n",
       "   'GiveWaterR_volume': 3.0,\n",
       "   'IncludeAutoReward': False,\n",
       "   'SaveTraining': True,\n",
       "   'InitiallyInactiveN': 2,\n",
       "   'Randomness': 'Exponential',\n",
       "   'qt_spinbox_lineedit': 5.0},\n",
       "  'Stage 3': {'task_schema_version': '1.0',\n",
       "   'curriculum_version': '0.1',\n",
       "   'task': 'Coupled Baiting',\n",
       "   'training_stage': 'Stage 3',\n",
       "   'description': \"Phase D in Han's slides (block = [10, 40, 10], p_sum = 0.45, p_ratio = [8:1])\",\n",
       "   'BaseRewardSum': 0.45,\n",
       "   'RewardFamily': 1,\n",
       "   'RewardParisN': 1,\n",
       "   'UncoupledReward': '',\n",
       "   'BlockMin': 20,\n",
       "   'BlockMax': 60,\n",
       "   'BlockBeta': 20,\n",
       "   'BlockMinReward': 0,\n",
       "   'DelayMin': 1.5,\n",
       "   'DelayMax': 1.5,\n",
       "   'DelayBeta': 0.0,\n",
       "   'AutoReward': True,\n",
       "   'AutoWaterType': 'Natural',\n",
       "   'Multiplier': 0.5,\n",
       "   'Unrewarded': 10,\n",
       "   'Ignored': 10,\n",
       "   'ITIMin': 3,\n",
       "   'ITIMax': 15,\n",
       "   'ITIBeta': 5,\n",
       "   'ITIIncrease': 0.0,\n",
       "   'ResponseTime': 2,\n",
       "   'RewardConsumeTime': 3.0,\n",
       "   'StopIgnores': 50,\n",
       "   'AdvancedBlockAuto': 'now',\n",
       "   'SwitchThr': 0.6,\n",
       "   'PointsInARow': 5,\n",
       "   'MaxTrial': 1000,\n",
       "   'MaxTime': 90,\n",
       "   'RightValue': 0.05,\n",
       "   'LeftValue': 0.05,\n",
       "   'RightValue_volume': 5.0,\n",
       "   'LeftValue_volume': 5.0,\n",
       "   'NextBlock': False,\n",
       "   'GiveLeft': False,\n",
       "   'GiveRight': False,\n",
       "   'GiveWaterL': 0.03,\n",
       "   'GiveWaterR': 0.03,\n",
       "   'GiveWaterL_volume': 3.0,\n",
       "   'GiveWaterR_volume': 3.0,\n",
       "   'IncludeAutoReward': False,\n",
       "   'SaveTraining': True,\n",
       "   'InitiallyInactiveN': 2,\n",
       "   'Randomness': 'Exponential',\n",
       "   'qt_spinbox_lineedit': 5.0},\n",
       "  'Stage final': {'task_schema_version': '1.0',\n",
       "   'curriculum_version': '0.1',\n",
       "   'task': 'Coupled Baiting',\n",
       "   'training_stage': 'Stage final',\n",
       "   'description': \"Phase E in Han's slides (full task: block = [20, 60, 20], p_sum = 0.45, p_ratio = [8:1], [6:1], [3:1], [1:1])\",\n",
       "   'BaseRewardSum': 0.45,\n",
       "   'RewardFamily': 1,\n",
       "   'RewardParisN': 4,\n",
       "   'UncoupledReward': '',\n",
       "   'BlockMin': 20,\n",
       "   'BlockMax': 60,\n",
       "   'BlockBeta': 20,\n",
       "   'BlockMinReward': 0,\n",
       "   'DelayMin': 2.0,\n",
       "   'DelayMax': 2.0,\n",
       "   'DelayBeta': 0,\n",
       "   'AutoReward': False,\n",
       "   'AutoWaterType': 'Natural',\n",
       "   'Multiplier': 0.5,\n",
       "   'Unrewarded': 10,\n",
       "   'Ignored': 10,\n",
       "   'ITIMin': 3,\n",
       "   'ITIMax': 30,\n",
       "   'ITIBeta': 5,\n",
       "   'ITIIncrease': 0.0,\n",
       "   'ResponseTime': 2,\n",
       "   'RewardConsumeTime': 3,\n",
       "   'StopIgnores': 50,\n",
       "   'AdvancedBlockAuto': 'off',\n",
       "   'SwitchThr': 0.6,\n",
       "   'PointsInARow': 5,\n",
       "   'MaxTrial': 1000,\n",
       "   'MaxTime': 90,\n",
       "   'RightValue': 0.05,\n",
       "   'LeftValue': 0.05,\n",
       "   'RightValue_volume': 5.0,\n",
       "   'LeftValue_volume': 5.0,\n",
       "   'NextBlock': False,\n",
       "   'GiveLeft': False,\n",
       "   'GiveRight': False,\n",
       "   'GiveWaterL': 0.03,\n",
       "   'GiveWaterR': 0.03,\n",
       "   'GiveWaterL_volume': 3.0,\n",
       "   'GiveWaterR_volume': 3.0,\n",
       "   'IncludeAutoReward': False,\n",
       "   'SaveTraining': True,\n",
       "   'InitiallyInactiveN': 2,\n",
       "   'Randomness': 'Exponential',\n",
       "   'qt_spinbox_lineedit': 5.0}},\n",
       " 'curriculum': {'Stage 1': {'from_stage': 'Stage 1',\n",
       "   'transition_rules': [{'decision': 'progress',\n",
       "     'to_stage': 'Stage 2',\n",
       "     'condition': 'lambda metrics:\\n                        metrics.finished_trials[-1] >= 200\\n                        and\\n                        metrics.foraging_efficiency[-1] >= 0.6\\n                        ',\n",
       "     'condition_description': 'Finished trials >= 200 and efficiency >= 0.6'}]},\n",
       "  'Stage 2': {'from_stage': 'Stage 2',\n",
       "   'transition_rules': [{'decision': 'progress',\n",
       "     'to_stage': 'Stage 3',\n",
       "     'condition': 'lambda metrics:\\n                        metrics.finished_trials[-1] >= 300\\n                        and\\n                        metrics.foraging_efficiency[-1] >= 0.65\\n                        ',\n",
       "     'condition_description': 'Finished trials >= 300 and efficiency > 0.65'},\n",
       "    {'decision': 'rollback',\n",
       "     'to_stage': 'Stage 1',\n",
       "     'condition': 'lambda metrics:\\n                        metrics.finished_trials[-1] < 200\\n                        or\\n                        metrics.foraging_efficiency[-1] < 0.55\\n                        ',\n",
       "     'condition_description': 'Finished trials < 200 or efficiency < 0.55'}]},\n",
       "  'Stage 3': {'from_stage': 'Stage 3',\n",
       "   'transition_rules': [{'decision': 'progress',\n",
       "     'to_stage': 'Stage final',\n",
       "     'condition': 'lambda metrics:\\n                        metrics.finished_trials[-1] >= 400\\n                        and\\n                        metrics.foraging_efficiency[-1] >= 0.7\\n                        ',\n",
       "     'condition_description': 'Finished trials >= 400 and efficiency >= 0.7'},\n",
       "    {'decision': 'rollback',\n",
       "     'to_stage': 'Stage 2',\n",
       "     'condition': 'lambda metrics:\\n                        metrics.finished_trials[-1] < 200\\n                        or\\n                        metrics.foraging_efficiency[-1] < 0.6\\n                        ',\n",
       "     'condition_description': 'Finished trials < 200 or efficiency < 0.6'}]},\n",
       "  'Stage final': {'from_stage': 'Stage final',\n",
       "   'transition_rules': [{'decision': 'progress',\n",
       "     'to_stage': 'Graduated',\n",
       "     'condition': 'lambda metrics:\\n                        metrics.session_total >= 10 \\n                        and\\n                        metrics.session_at_current_stage >= 5\\n                        and\\n                        np.mean(metrics.finished_trials[-5:]) >= 500\\n                        and\\n                        np.mean(metrics.foraging_efficiency[-5:]) >= 0.7\\n                        ',\n",
       "     'condition_description': 'For recent 5 sessions,mean finished trials >= 500 and mean efficiency >= 0.7 and total sessions >= 10 and sessions at final >= 5'},\n",
       "    {'decision': 'rollback',\n",
       "     'to_stage': 'Stage 3',\n",
       "     'condition': 'lambda metrics:\\n                        np.mean(metrics.finished_trials[-2:]) < 400\\n                        or\\n                        np.mean(metrics.foraging_efficiency[-2:]) < 0.6\\n                        ',\n",
       "     'condition_description': 'For recent 2 sessions, mean finished trials < 400 or efficiency < 0.6'}]}}}"
      ]
     },
     "execution_count": 4,
     "metadata": {},
     "output_type": "execute_result"
    }
   ],
   "source": [
    "import json\n",
    "with open(path + \"curriculum_Coupled Baiting_0.1_1.0.json\", \"r\") as f:\n",
    "    loaded_json = json.load(f)\n",
    "\n",
    "loaded_json"
   ]
  },
  {
   "cell_type": "markdown",
   "metadata": {},
   "source": [
    "Recover the `DynamicForagingCurriculum` class"
   ]
  },
  {
   "cell_type": "code",
   "execution_count": 5,
   "metadata": {},
   "outputs": [
    {
     "data": {
      "text/plain": [
       "[TransitionRule(decision=<Decision.PROGRESS: 'progress'>, to_stage=<TrainingStage.GRADUATED: 'Graduated'>, condition='lambda metrics:\\n                        metrics.session_total >= 10 \\n                        and\\n                        metrics.session_at_current_stage >= 5\\n                        and\\n                        np.mean(metrics.finished_trials[-5:]) >= 500\\n                        and\\n                        np.mean(metrics.foraging_efficiency[-5:]) >= 0.7\\n                        ', condition_description='For recent 5 sessions,mean finished trials >= 500 and mean efficiency >= 0.7 and total sessions >= 10 and sessions at final >= 5'),\n",
       " TransitionRule(decision=<Decision.ROLLBACK: 'rollback'>, to_stage=<TrainingStage.STAGE_3: 'Stage 3'>, condition='lambda metrics:\\n                        np.mean(metrics.finished_trials[-2:]) < 400\\n                        or\\n                        np.mean(metrics.foraging_efficiency[-2:]) < 0.6\\n                        ', condition_description='For recent 2 sessions, mean finished trials < 400 or efficiency < 0.6')]"
      ]
     },
     "execution_count": 5,
     "metadata": {},
     "output_type": "execute_result"
    }
   ],
   "source": [
    "from dynamic_foraging_curriculum.schema.curriculum import DynamicForagingCurriculum, TrainingStage\n",
    "loaded_curriculum = DynamicForagingCurriculum(**loaded_json)\n",
    "\n",
    "# Retrieve the transition rules from the STAGE_FINAL\n",
    "loaded_curriculum.curriculum[TrainingStage.STAGE_FINAL].transition_rules"
   ]
  },
  {
   "cell_type": "code",
   "execution_count": 6,
   "metadata": {},
   "outputs": [
    {
     "data": {
      "image/svg+xml": "<?xml version=\"1.0\" encoding=\"UTF-8\" standalone=\"no\"?>\n<!DOCTYPE svg PUBLIC \"-//W3C//DTD SVG 1.1//EN\"\n \"http://www.w3.org/Graphics/SVG/1.1/DTD/svg11.dtd\">\n<!-- Generated by graphviz version 2.43.0 (0)\n -->\n<!-- Title: %3 Pages: 1 -->\n<svg width=\"462pt\" height=\"544pt\"\n viewBox=\"0.00 0.00 461.69 544.00\" xmlns=\"http://www.w3.org/2000/svg\" xmlns:xlink=\"http://www.w3.org/1999/xlink\">\n<g id=\"graph0\" class=\"graph\" transform=\"scale(1 1) rotate(0) translate(4 540)\">\n<title>%3</title>\n<polygon fill=\"white\" stroke=\"transparent\" points=\"-4,4 -4,-540 457.69,-540 457.69,4 -4,4\"/>\n<!-- STAGE_1 -->\n<g id=\"node1\" class=\"node\">\n<title>STAGE_1</title>\n<g id=\"a_node1\"><a xlink:title=\"Phase B in Han&#39;s slides (block = [10, 20, 5], p_sum = 0.8, p_ratio = [1:0])\">\n<ellipse fill=\"red\" stroke=\"black\" cx=\"233\" cy=\"-518\" rx=\"53.09\" ry=\"18\"/>\n<text text-anchor=\"middle\" x=\"233\" y=\"-514.3\" font-family=\"Times,serif\" font-size=\"14.00\">STAGE_1</text>\n</a>\n</g>\n</g>\n<!-- STAGE_2 -->\n<g id=\"node2\" class=\"node\">\n<title>STAGE_2</title>\n<g id=\"a_node2\"><a xlink:title=\"Phase C in Han&#39;s slides (block = [10, 40, 10], p_sum = 0.6, p_ratio = [8:1])\">\n<ellipse fill=\"orange\" stroke=\"black\" cx=\"233\" cy=\"-393\" rx=\"53.09\" ry=\"18\"/>\n<text text-anchor=\"middle\" x=\"233\" y=\"-389.3\" font-family=\"Times,serif\" font-size=\"14.00\">STAGE_2</text>\n</a>\n</g>\n</g>\n<!-- STAGE_1&#45;&gt;STAGE_2 -->\n<g id=\"edge1\" class=\"edge\">\n<title>STAGE_1&#45;&gt;STAGE_2</title>\n<g id=\"a_edge1\"><a xlink:title=\"metrics.finished_trials[&#45;1] &gt;= 200&#10;and&#10;metrics.foraging_efficiency[&#45;1] &gt;= 0.6&#10;\">\n<path fill=\"none\" stroke=\"black\" d=\"M227.32,-499.71C224.18,-489.22 220.59,-475.49 219,-463 217.19,-448.84 219.95,-433.24 223.48,-420.46\"/>\n<polygon fill=\"black\" stroke=\"black\" points=\"226.83,-421.48 226.41,-410.9 220.13,-419.44 226.83,-421.48\"/>\n</a>\n</g>\n<text text-anchor=\"middle\" x=\"233\" y=\"-451.8\" font-family=\"Times,serif\" font-size=\"14.00\"> &#160;&#160;&#160;&#160;&#160;</text>\n<g id=\"a_edge1&#45;headlabel\"><a xlink:title=\"metrics.finished_trials[&#45;1] &gt;= 200&#10;and&#10;metrics.foraging_efficiency[&#45;1] &gt;= 0.6&#10;\">\n<text text-anchor=\"middle\" x=\"128.91\" y=\"-429.7\" font-family=\"Times,serif\" font-size=\"14.00\">Finished trials &gt;= 200 and</text>\n<text text-anchor=\"middle\" x=\"128.91\" y=\"-414.7\" font-family=\"Times,serif\" font-size=\"14.00\"> efficiency &gt;= 0.6</text>\n</a>\n</g>\n</g>\n<!-- STAGE_2&#45;&gt;STAGE_1 -->\n<g id=\"edge3\" class=\"edge\">\n<title>STAGE_2&#45;&gt;STAGE_1</title>\n<g id=\"a_edge3\"><a xlink:title=\"metrics.finished_trials[&#45;1] &lt; 200&#10;or&#10;metrics.foraging_efficiency[&#45;1] &lt; 0.55&#10;\">\n<path fill=\"none\" stroke=\"grey\" stroke-dasharray=\"5,2\" d=\"M239.59,-410.9C244.25,-424.8 249.29,-445.05 247,-463 245.87,-471.88 243.73,-481.39 241.46,-489.91\"/>\n<polygon fill=\"grey\" stroke=\"grey\" points=\"238.04,-489.13 238.68,-499.71 244.77,-491.04 238.04,-489.13\"/>\n</a>\n</g>\n<g id=\"a_edge3&#45;taillabel\"><a xlink:title=\"metrics.finished_trials[&#45;1] &lt; 200&#10;or&#10;metrics.foraging_efficiency[&#45;1] &lt; 0.55&#10;\">\n<text text-anchor=\"middle\" x=\"325.59\" y=\"-429.7\" font-family=\"Times,serif\" font-size=\"14.00\" fill=\"grey\">Finished trials &lt; 200 or</text>\n<text text-anchor=\"middle\" x=\"325.59\" y=\"-414.7\" font-family=\"Times,serif\" font-size=\"14.00\" fill=\"grey\"> efficiency &lt; 0.55</text>\n</a>\n</g>\n</g>\n<!-- STAGE_3 -->\n<g id=\"node3\" class=\"node\">\n<title>STAGE_3</title>\n<g id=\"a_node3\"><a xlink:title=\"Phase D in Han&#39;s slides (block = [10, 40, 10], p_sum = 0.45, p_ratio = [8:1])\">\n<ellipse fill=\"yellow\" stroke=\"black\" cx=\"233\" cy=\"-268\" rx=\"53.09\" ry=\"18\"/>\n<text text-anchor=\"middle\" x=\"233\" y=\"-264.3\" font-family=\"Times,serif\" font-size=\"14.00\">STAGE_3</text>\n</a>\n</g>\n</g>\n<!-- STAGE_2&#45;&gt;STAGE_3 -->\n<g id=\"edge2\" class=\"edge\">\n<title>STAGE_2&#45;&gt;STAGE_3</title>\n<g id=\"a_edge2\"><a xlink:title=\"metrics.finished_trials[&#45;1] &gt;= 300&#10;and&#10;metrics.foraging_efficiency[&#45;1] &gt;= 0.65&#10;\">\n<path fill=\"none\" stroke=\"black\" d=\"M227.32,-374.71C224.18,-364.22 220.59,-350.49 219,-338 217.19,-323.84 219.95,-308.24 223.48,-295.46\"/>\n<polygon fill=\"black\" stroke=\"black\" points=\"226.83,-296.48 226.41,-285.9 220.13,-294.44 226.83,-296.48\"/>\n</a>\n</g>\n<text text-anchor=\"middle\" x=\"233\" y=\"-326.8\" font-family=\"Times,serif\" font-size=\"14.00\"> &#160;&#160;&#160;&#160;&#160;</text>\n<g id=\"a_edge2&#45;headlabel\"><a xlink:title=\"metrics.finished_trials[&#45;1] &gt;= 300&#10;and&#10;metrics.foraging_efficiency[&#45;1] &gt;= 0.65&#10;\">\n<text text-anchor=\"middle\" x=\"128.91\" y=\"-304.7\" font-family=\"Times,serif\" font-size=\"14.00\">Finished trials &gt;= 300 and</text>\n<text text-anchor=\"middle\" x=\"128.91\" y=\"-289.7\" font-family=\"Times,serif\" font-size=\"14.00\"> efficiency &gt; 0.65</text>\n</a>\n</g>\n</g>\n<!-- STAGE_3&#45;&gt;STAGE_2 -->\n<g id=\"edge5\" class=\"edge\">\n<title>STAGE_3&#45;&gt;STAGE_2</title>\n<g id=\"a_edge5\"><a xlink:title=\"metrics.finished_trials[&#45;1] &lt; 200&#10;or&#10;metrics.foraging_efficiency[&#45;1] &lt; 0.6&#10;\">\n<path fill=\"none\" stroke=\"grey\" stroke-dasharray=\"5,2\" d=\"M239.59,-285.9C244.25,-299.8 249.29,-320.05 247,-338 245.87,-346.88 243.73,-356.39 241.46,-364.91\"/>\n<polygon fill=\"grey\" stroke=\"grey\" points=\"238.04,-364.13 238.68,-374.71 244.77,-366.04 238.04,-364.13\"/>\n</a>\n</g>\n<g id=\"a_edge5&#45;taillabel\"><a xlink:title=\"metrics.finished_trials[&#45;1] &lt; 200&#10;or&#10;metrics.foraging_efficiency[&#45;1] &lt; 0.6&#10;\">\n<text text-anchor=\"middle\" x=\"325.59\" y=\"-304.7\" font-family=\"Times,serif\" font-size=\"14.00\" fill=\"grey\">Finished trials &lt; 200 or</text>\n<text text-anchor=\"middle\" x=\"325.59\" y=\"-289.7\" font-family=\"Times,serif\" font-size=\"14.00\" fill=\"grey\"> efficiency &lt; 0.6</text>\n</a>\n</g>\n</g>\n<!-- STAGE_FINAL -->\n<g id=\"node4\" class=\"node\">\n<title>STAGE_FINAL</title>\n<g id=\"a_node4\"><a xlink:title=\"Phase E in Han&#39;s slides (full task: block = [20, 60, 20], p_sum = 0.45, p_ratio = [8:1], [6:1], [3:1], [1:1])\">\n<ellipse fill=\"lightgreen\" stroke=\"black\" cx=\"233\" cy=\"-143\" rx=\"77.19\" ry=\"18\"/>\n<text text-anchor=\"middle\" x=\"233\" y=\"-139.3\" font-family=\"Times,serif\" font-size=\"14.00\">STAGE_FINAL</text>\n</a>\n</g>\n</g>\n<!-- STAGE_3&#45;&gt;STAGE_FINAL -->\n<g id=\"edge4\" class=\"edge\">\n<title>STAGE_3&#45;&gt;STAGE_FINAL</title>\n<g id=\"a_edge4\"><a xlink:title=\"metrics.finished_trials[&#45;1] &gt;= 400&#10;and&#10;metrics.foraging_efficiency[&#45;1] &gt;= 0.7&#10;\">\n<path fill=\"none\" stroke=\"black\" d=\"M227.32,-249.71C224.18,-239.22 220.59,-225.49 219,-213 217.22,-199.08 219.86,-183.76 223.3,-171.1\"/>\n<polygon fill=\"black\" stroke=\"black\" points=\"226.76,-171.77 226.31,-161.18 220.06,-169.74 226.76,-171.77\"/>\n</a>\n</g>\n<text text-anchor=\"middle\" x=\"233\" y=\"-201.8\" font-family=\"Times,serif\" font-size=\"14.00\"> &#160;&#160;&#160;&#160;&#160;</text>\n<g id=\"a_edge4&#45;headlabel\"><a xlink:title=\"metrics.finished_trials[&#45;1] &gt;= 400&#10;and&#10;metrics.foraging_efficiency[&#45;1] &gt;= 0.7&#10;\">\n<text text-anchor=\"middle\" x=\"128.81\" y=\"-179.98\" font-family=\"Times,serif\" font-size=\"14.00\">Finished trials &gt;= 400 and</text>\n<text text-anchor=\"middle\" x=\"128.81\" y=\"-164.98\" font-family=\"Times,serif\" font-size=\"14.00\"> efficiency &gt;= 0.7</text>\n</a>\n</g>\n</g>\n<!-- STAGE_FINAL&#45;&gt;STAGE_3 -->\n<g id=\"edge7\" class=\"edge\">\n<title>STAGE_FINAL&#45;&gt;STAGE_3</title>\n<g id=\"a_edge7\"><a xlink:title=\"np.mean(metrics.finished_trials[&#45;2:]) &lt; 400&#10;or&#10;np.mean(metrics.foraging_efficiency[&#45;2:]) &lt; 0.6&#10;\">\n<path fill=\"none\" stroke=\"grey\" stroke-dasharray=\"5,2\" d=\"M239.69,-161.18C244.32,-175.07 249.27,-195.18 247,-213 245.87,-221.88 243.73,-231.39 241.46,-239.91\"/>\n<polygon fill=\"grey\" stroke=\"grey\" points=\"238.04,-239.13 238.68,-249.71 244.77,-241.04 238.04,-239.13\"/>\n</a>\n</g>\n<g id=\"a_edge7&#45;taillabel\"><a xlink:title=\"np.mean(metrics.finished_trials[&#45;2:]) &lt; 400&#10;or&#10;np.mean(metrics.foraging_efficiency[&#45;2:]) &lt; 0.6&#10;\">\n<text text-anchor=\"middle\" x=\"346.69\" y=\"-194.98\" font-family=\"Times,serif\" font-size=\"14.00\" fill=\"grey\">For recent 2 sessions,</text>\n<text text-anchor=\"middle\" x=\"346.69\" y=\"-179.98\" font-family=\"Times,serif\" font-size=\"14.00\" fill=\"grey\"> mean finished trials &lt; 400 or</text>\n<text text-anchor=\"middle\" x=\"346.69\" y=\"-164.98\" font-family=\"Times,serif\" font-size=\"14.00\" fill=\"grey\"> efficiency &lt; 0.6</text>\n</a>\n</g>\n</g>\n<!-- GRADUATED -->\n<g id=\"node5\" class=\"node\">\n<title>GRADUATED</title>\n<polygon fill=\"green\" stroke=\"black\" points=\"288,-36 178,-36 178,0 288,0 288,-36\"/>\n<text text-anchor=\"middle\" x=\"233\" y=\"-14.3\" font-family=\"Times,serif\" font-size=\"14.00\">GRADUATED</text>\n</g>\n<!-- STAGE_FINAL&#45;&gt;GRADUATED -->\n<g id=\"edge6\" class=\"edge\">\n<title>STAGE_FINAL&#45;&gt;GRADUATED</title>\n<g id=\"a_edge6\"><a xlink:title=\"metrics.session_total &gt;= 10 &#10;and&#10;metrics.session_at_current_stage &gt;= 5&#10;and&#10;np.mean(metrics.finished_trials[&#45;5:]) &gt;= 500&#10;and&#10;np.mean(metrics.foraging_efficiency[&#45;5:]) &gt;= 0.7&#10;\">\n<path fill=\"none\" stroke=\"black\" d=\"M233,-124.9C233,-104.63 233,-70.6 233,-46.59\"/>\n<polygon fill=\"black\" stroke=\"black\" points=\"236.5,-46.35 233,-36.35 229.5,-46.35 236.5,-46.35\"/>\n</a>\n</g>\n<text text-anchor=\"middle\" x=\"247\" y=\"-76.8\" font-family=\"Times,serif\" font-size=\"14.00\"> &#160;&#160;&#160;&#160;&#160;</text>\n<g id=\"a_edge6&#45;headlabel\"><a xlink:title=\"metrics.session_total &gt;= 10 &#10;and&#10;metrics.session_at_current_stage &gt;= 5&#10;and&#10;np.mean(metrics.finished_trials[&#45;5:]) &gt;= 500&#10;and&#10;np.mean(metrics.foraging_efficiency[&#45;5:]) &gt;= 0.7&#10;\">\n<text text-anchor=\"middle\" x=\"116.5\" y=\"-100.15\" font-family=\"Times,serif\" font-size=\"14.00\">For recent 5 sessions,</text>\n<text text-anchor=\"middle\" x=\"116.5\" y=\"-85.15\" font-family=\"Times,serif\" font-size=\"14.00\">mean finished trials &gt;= 500 and</text>\n<text text-anchor=\"middle\" x=\"116.5\" y=\"-70.15\" font-family=\"Times,serif\" font-size=\"14.00\"> mean efficiency &gt;= 0.7 and</text>\n<text text-anchor=\"middle\" x=\"116.5\" y=\"-55.15\" font-family=\"Times,serif\" font-size=\"14.00\"> total sessions &gt;= 10 and</text>\n<text text-anchor=\"middle\" x=\"116.5\" y=\"-40.15\" font-family=\"Times,serif\" font-size=\"14.00\"> sessions at final &gt;= 5</text>\n</a>\n</g>\n</g>\n</g>\n</svg>\n",
      "text/plain": [
       "<graphviz.graphs.Digraph at 0x7f6a7d7413a0>"
      ]
     },
     "execution_count": 6,
     "metadata": {},
     "output_type": "execute_result"
    }
   ],
   "source": [
    "from dynamic_foraging_curriculum.plot.curriculum import draw_curriculum_diagram\n",
    "dot = draw_curriculum_diagram(loaded_curriculum)\n",
    "dot.render('curriculum_diagram', format='svg')\n",
    "dot"
   ]
  },
  {
   "cell_type": "code",
   "execution_count": 7,
   "metadata": {},
   "outputs": [
    {
     "data": {
      "text/plain": [
       "StageTransitions(from_stage=<TrainingStage.STAGE_1: 'Stage 1'>, transition_rules=[TransitionRule(decision=<Decision.PROGRESS: 'progress'>, to_stage=<TrainingStage.STAGE_2: 'Stage 2'>, condition='lambda metrics:\\n                        metrics.finished_trials[-1] >= 200\\n                        and\\n                        metrics.foraging_efficiency[-1] >= 0.6\\n                        ', condition_description='Finished trials >= 200 and efficiency >= 0.6')])"
      ]
     },
     "execution_count": 7,
     "metadata": {},
     "output_type": "execute_result"
    }
   ],
   "source": [
    "loaded_curriculum.curriculum[list(loaded_curriculum.parameters.keys())[0]]"
   ]
  }
 ],
 "metadata": {
  "kernelspec": {
   "display_name": "base",
   "language": "python",
   "name": "python3"
  },
  "language_info": {
   "codemirror_mode": {
    "name": "ipython",
    "version": 3
   },
   "file_extension": ".py",
   "mimetype": "text/x-python",
   "name": "python",
   "nbconvert_exporter": "python",
   "pygments_lexer": "ipython3",
   "version": "3.8.5"
  },
  "orig_nbformat": 4,
  "vscode": {
   "interpreter": {
    "hash": "d4d1e4263499bec80672ea0156c357c1ee493ec2b1c70f0acce89fc37c4a6abe"
   }
  }
 },
 "nbformat": 4,
 "nbformat_minor": 2
}
