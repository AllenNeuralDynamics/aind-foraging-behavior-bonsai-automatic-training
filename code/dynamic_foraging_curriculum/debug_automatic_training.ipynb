{
 "cells": [
  {
   "cell_type": "code",
   "execution_count": 20,
   "metadata": {},
   "outputs": [
    {
     "name": "stdout",
     "output_type": "stream",
     "text": [
      "The autoreload extension is already loaded. To reload it, use:\n",
      "  %reload_ext autoreload\n"
     ]
    }
   ],
   "source": [
    "%load_ext autoreload\n",
    "%autoreload 2"
   ]
  },
  {
   "cell_type": "code",
   "execution_count": 40,
   "metadata": {},
   "outputs": [],
   "source": [
    "from dynamic_foraging_curriculum.curriculums.coupled_baiting import coupled_baiting_curriculum\n",
    "from dynamic_foraging_curriculum.schema.curriculum import Metrics, TrainingStage\n",
    "import numpy as np"
   ]
  },
  {
   "cell_type": "code",
   "execution_count": 24,
   "metadata": {},
   "outputs": [
    {
     "name": "stdout",
     "output_type": "stream",
     "text": [
      "{\n",
      "    \"task\": \"Coupled Baiting\",\n",
      "    \"curriculum_version\": \"0.1\",\n",
      "    \"stage_transitions\": {\n",
      "        \"Stage 1\": {\n",
      "            \"from_stage\": \"Stage 1\",\n",
      "            \"transition_rules\": [\n",
      "                {\n",
      "                    \"to_stage\": \"Stage 2\",\n",
      "                    \"description\": \"Finished trials >= 100 and efficiency >= 0.7\"\n",
      "                }\n",
      "            ]\n",
      "        },\n",
      "        \"Stage 2\": {\n",
      "            \"from_stage\": \"Stage 2\",\n",
      "            \"transition_rules\": [\n",
      "                {\n",
      "                    \"to_stage\": \"Stage 3\",\n",
      "                    \"description\": \"For recent 3 sessions, mean finished trials >= 100 and mean efficiency >= 0.7\"\n",
      "                },\n",
      "                {\n",
      "                    \"to_stage\": \"Stage 1\",\n",
      "                    \"description\": \"\"\n",
      "                }\n",
      "            ]\n",
      "        }\n",
      "    }\n",
      "}\n"
     ]
    }
   ],
   "source": [
    "print(coupled_baiting_curriculum.to_json())"
   ]
  },
  {
   "cell_type": "code",
   "execution_count": 47,
   "metadata": {},
   "outputs": [
    {
     "data": {
      "text/plain": [
       "<TrainingStage.STAGE_2: 'Stage 2'>"
      ]
     },
     "execution_count": 47,
     "metadata": {},
     "output_type": "execute_result"
    }
   ],
   "source": [
    "coupled_baiting_curriculum.evaluate_transitions(TrainingStage.STAGE_2, \n",
    "                                                Metrics(finished_trials=[500, 400, 599], \n",
    "                                                        foraging_efficiency=[0.8],\n",
    "                                                        session_total=1,\n",
    "                                                        session_at_current_stage=4))"
   ]
  },
  {
   "cell_type": "code",
   "execution_count": null,
   "metadata": {},
   "outputs": [],
   "source": []
  }
 ],
 "metadata": {
  "kernelspec": {
   "display_name": "base",
   "language": "python",
   "name": "python3"
  },
  "language_info": {
   "codemirror_mode": {
    "name": "ipython",
    "version": 3
   },
   "file_extension": ".py",
   "mimetype": "text/x-python",
   "name": "python",
   "nbconvert_exporter": "python",
   "pygments_lexer": "ipython3",
   "version": "3.8.5"
  },
  "orig_nbformat": 4,
  "vscode": {
   "interpreter": {
    "hash": "d4d1e4263499bec80672ea0156c357c1ee493ec2b1c70f0acce89fc37c4a6abe"
   }
  }
 },
 "nbformat": 4,
 "nbformat_minor": 2
}
