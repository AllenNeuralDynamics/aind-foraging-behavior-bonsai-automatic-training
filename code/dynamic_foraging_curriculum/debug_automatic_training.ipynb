{
 "cells": [
  {
   "cell_type": "code",
   "execution_count": 1,
   "metadata": {},
   "outputs": [],
   "source": [
    "%load_ext autoreload\n",
    "%autoreload 2"
   ]
  },
  {
   "cell_type": "code",
   "execution_count": 5,
   "metadata": {},
   "outputs": [],
   "source": [
    "from dynamic_foraging_curriculum.curriculums.coupled_baiting import coupled_baiting_curriculum\n",
    "from dynamic_foraging_curriculum.schema.curriculum import Metrics, TrainingStage\n",
    "import numpy as np"
   ]
  },
  {
   "cell_type": "code",
   "execution_count": 7,
   "metadata": {},
   "outputs": [
    {
     "name": "stdout",
     "output_type": "stream",
     "text": [
      "{\n",
      "    \"task\": \"Coupled Baiting\",\n",
      "    \"curriculum_version\": \"0.1\",\n",
      "    \"curriculum\": {\n",
      "        \"Stage 1\": {\n",
      "            \"from_stage\": \"Stage 1\",\n",
      "            \"transition_rules\": [\n",
      "                {\n",
      "                    \"to_stage\": \"Stage 2\",\n",
      "                    \"condition_description\": \"Finished trials >= 100 and efficiency >= 0.7\"\n",
      "                }\n",
      "            ]\n",
      "        },\n",
      "        \"Stage 2\": {\n",
      "            \"from_stage\": \"Stage 2\",\n",
      "            \"transition_rules\": [\n",
      "                {\n",
      "                    \"to_stage\": \"Stage 3\",\n",
      "                    \"condition_description\": \"For recent 3 sessions, mean finished trials >= 500 and efficiency >= 0.7\"\n",
      "                },\n",
      "                {\n",
      "                    \"to_stage\": \"Stage 1\",\n",
      "                    \"condition_description\": \"Finished trials < 100 or efficiency < 0.6\"\n",
      "                }\n",
      "            ]\n",
      "        }\n",
      "    },\n",
      "    \"parameters\": {\n",
      "        \"Stage 1\": {\n",
      "            \"schema_version\": \"0.1\",\n",
      "            \"curriculum_version\": \"0.1\",\n",
      "            \"task\": \"Coupled Baiting\",\n",
      "            \"training_stage\": \"Stage 1\",\n",
      "            \"BaseRewardSum\": 1.0,\n",
      "            \"RewardFamily\": 3,\n",
      "            \"RewardParisN\": 1,\n",
      "            \"UncoupledReward\": \"0.1,0.3,0.7\",\n",
      "            \"BlockMin\": 1,\n",
      "            \"BlockMax\": 1,\n",
      "            \"BlockBeta\": 1,\n",
      "            \"BlockMinReward\": 1,\n",
      "            \"DelayMin\": 0.0,\n",
      "            \"DelayMax\": 0.0,\n",
      "            \"DelayBeta\": 0.5,\n",
      "            \"AutoReward\": true,\n",
      "            \"AutoWaterType\": \"Natural\",\n",
      "            \"Multiplier\": 0.5,\n",
      "            \"Unrewarded\": 0,\n",
      "            \"Ignored\": 0,\n",
      "            \"ITIMin\": 3,\n",
      "            \"ITIMax\": 15,\n",
      "            \"ITIBeta\": 5,\n",
      "            \"ITIIncrease\": 0.0,\n",
      "            \"ResponseTime\": 10,\n",
      "            \"RewardConsumeTime\": 3.0,\n",
      "            \"StopIgnores\": 20000,\n",
      "            \"AdvancedBlockAuto\": \"off\",\n",
      "            \"SwitchThr\": 0.5,\n",
      "            \"PointsInARow\": 5,\n",
      "            \"MaxTrial\": 1000,\n",
      "            \"MaxTime\": 90,\n",
      "            \"RightValue\": 0.05,\n",
      "            \"LeftValue\": 0.05,\n",
      "            \"RightValue_volume\": 5.0,\n",
      "            \"LeftValue_volume\": 5.0,\n",
      "            \"NextBlock\": false,\n",
      "            \"GiveLeft\": false,\n",
      "            \"GiveRight\": false,\n",
      "            \"GiveWaterL\": 0.03,\n",
      "            \"GiveWaterR\": 0.03,\n",
      "            \"GiveWaterL_volume\": 3.0,\n",
      "            \"GiveWaterR_volume\": 3.0,\n",
      "            \"IncludeAutoReward\": false,\n",
      "            \"SaveTraining\": true,\n",
      "            \"InitiallyInactiveN\": 2,\n",
      "            \"Randomness\": \"Exponential\",\n",
      "            \"qt_spinbox_lineedit\": 5.0\n",
      "        }\n",
      "    }\n",
      "}\n"
     ]
    }
   ],
   "source": [
    "print(coupled_baiting_curriculum.to_json())"
   ]
  },
  {
   "cell_type": "code",
   "execution_count": 47,
   "metadata": {},
   "outputs": [
    {
     "data": {
      "text/plain": [
       "<TrainingStage.STAGE_2: 'Stage 2'>"
      ]
     },
     "execution_count": 47,
     "metadata": {},
     "output_type": "execute_result"
    }
   ],
   "source": [
    "coupled_baiting_curriculum.evaluate_transitions(TrainingStage.STAGE_2, \n",
    "                                                Metrics(finished_trials=[500, 400, 599], \n",
    "                                                        foraging_efficiency=[0.8],\n",
    "                                                        session_total=1,\n",
    "                                                        session_at_current_stage=4))"
   ]
  },
  {
   "cell_type": "code",
   "execution_count": 53,
   "metadata": {},
   "outputs": [
    {
     "data": {
      "text/plain": [
       "TransitionRule(to_stage=<TrainingStage.STAGE_3: 'Stage 3'>, condition=<function <lambda> at 0x7fe17e505a60>, condition_description='')"
      ]
     },
     "execution_count": 53,
     "metadata": {},
     "output_type": "execute_result"
    }
   ],
   "source": [
    "coupled_baiting_curriculum.stage_transitions[TrainingStage.STAGE_2].transition_rules[0]"
   ]
  }
 ],
 "metadata": {
  "kernelspec": {
   "display_name": "base",
   "language": "python",
   "name": "python3"
  },
  "language_info": {
   "codemirror_mode": {
    "name": "ipython",
    "version": 3
   },
   "file_extension": ".py",
   "mimetype": "text/x-python",
   "name": "python",
   "nbconvert_exporter": "python",
   "pygments_lexer": "ipython3",
   "version": "3.8.5"
  },
  "orig_nbformat": 4,
  "vscode": {
   "interpreter": {
    "hash": "d4d1e4263499bec80672ea0156c357c1ee493ec2b1c70f0acce89fc37c4a6abe"
   }
  }
 },
 "nbformat": 4,
 "nbformat_minor": 2
}
